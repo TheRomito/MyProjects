{
  "nbformat": 4,
  "nbformat_minor": 0,
  "metadata": {
    "colab": {
      "name": "AnalisesNoticias.ipynb",
      "provenance": []
    },
    "kernelspec": {
      "name": "python3",
      "display_name": "Python 3"
    },
    "language_info": {
      "name": "python"
    }
  },
  "cells": [
    {
      "cell_type": "markdown",
      "metadata": {
        "id": "r6i9YaQXCO8I"
      },
      "source": [
        "### Installing Dependencies"
      ]
    },
    {
      "cell_type": "code",
      "metadata": {
        "colab": {
          "base_uri": "https://localhost:8080/"
        },
        "id": "13Hlm5Bc2vAa",
        "outputId": "79a2a770-8751-494c-bed8-c6e9e892241c"
      },
      "source": [
        "!pip install textblob\n",
        "!pip install googletrans==4.0.0rc1"
      ],
      "execution_count": 1,
      "outputs": [
        {
          "output_type": "stream",
          "name": "stdout",
          "text": [
            "Requirement already satisfied: textblob in /usr/local/lib/python3.7/dist-packages (0.15.3)\n",
            "Requirement already satisfied: nltk>=3.1 in /usr/local/lib/python3.7/dist-packages (from textblob) (3.2.5)\n",
            "Requirement already satisfied: six in /usr/local/lib/python3.7/dist-packages (from nltk>=3.1->textblob) (1.15.0)\n",
            "Collecting googletrans==4.0.0rc1\n",
            "  Downloading googletrans-4.0.0rc1.tar.gz (20 kB)\n",
            "Collecting httpx==0.13.3\n",
            "  Downloading httpx-0.13.3-py3-none-any.whl (55 kB)\n",
            "\u001b[K     |████████████████████████████████| 55 kB 2.4 MB/s \n",
            "\u001b[?25hRequirement already satisfied: certifi in /usr/local/lib/python3.7/dist-packages (from httpx==0.13.3->googletrans==4.0.0rc1) (2021.10.8)\n",
            "Collecting rfc3986<2,>=1.3\n",
            "  Downloading rfc3986-1.5.0-py2.py3-none-any.whl (31 kB)\n",
            "Collecting sniffio\n",
            "  Downloading sniffio-1.2.0-py3-none-any.whl (10 kB)\n",
            "Requirement already satisfied: idna==2.* in /usr/local/lib/python3.7/dist-packages (from httpx==0.13.3->googletrans==4.0.0rc1) (2.10)\n",
            "Collecting hstspreload\n",
            "  Downloading hstspreload-2021.11.1-py3-none-any.whl (1.3 MB)\n",
            "\u001b[K     |████████████████████████████████| 1.3 MB 15.5 MB/s \n",
            "\u001b[?25hCollecting httpcore==0.9.*\n",
            "  Downloading httpcore-0.9.1-py3-none-any.whl (42 kB)\n",
            "\u001b[K     |████████████████████████████████| 42 kB 1.2 MB/s \n",
            "\u001b[?25hRequirement already satisfied: chardet==3.* in /usr/local/lib/python3.7/dist-packages (from httpx==0.13.3->googletrans==4.0.0rc1) (3.0.4)\n",
            "Collecting h2==3.*\n",
            "  Downloading h2-3.2.0-py2.py3-none-any.whl (65 kB)\n",
            "\u001b[K     |████████████████████████████████| 65 kB 3.4 MB/s \n",
            "\u001b[?25hCollecting h11<0.10,>=0.8\n",
            "  Downloading h11-0.9.0-py2.py3-none-any.whl (53 kB)\n",
            "\u001b[K     |████████████████████████████████| 53 kB 2.0 MB/s \n",
            "\u001b[?25hCollecting hpack<4,>=3.0\n",
            "  Downloading hpack-3.0.0-py2.py3-none-any.whl (38 kB)\n",
            "Collecting hyperframe<6,>=5.2.0\n",
            "  Downloading hyperframe-5.2.0-py2.py3-none-any.whl (12 kB)\n",
            "Building wheels for collected packages: googletrans\n",
            "  Building wheel for googletrans (setup.py) ... \u001b[?25l\u001b[?25hdone\n",
            "  Created wheel for googletrans: filename=googletrans-4.0.0rc1-py3-none-any.whl size=17415 sha256=c1ebfc82267d6e1497c2226f403ae18e167c03ab10e963ab69c1de87275be3cf\n",
            "  Stored in directory: /root/.cache/pip/wheels/43/34/00/4fe71786ea6d12314b29037620c36d857e5d104ac2748bf82a\n",
            "Successfully built googletrans\n",
            "Installing collected packages: hyperframe, hpack, sniffio, h2, h11, rfc3986, httpcore, hstspreload, httpx, googletrans\n",
            "Successfully installed googletrans-4.0.0rc1 h11-0.9.0 h2-3.2.0 hpack-3.0.0 hstspreload-2021.11.1 httpcore-0.9.1 httpx-0.13.3 hyperframe-5.2.0 rfc3986-1.5.0 sniffio-1.2.0\n"
          ]
        }
      ]
    },
    {
      "cell_type": "markdown",
      "metadata": {
        "id": "2HwOSvvgCSXo"
      },
      "source": [
        "### Translation Example"
      ]
    },
    {
      "cell_type": "code",
      "metadata": {
        "colab": {
          "base_uri": "https://localhost:8080/"
        },
        "id": "-tO9PVve_BWa",
        "outputId": "bb1937f7-986a-44c1-fe82-ac081628a0a2"
      },
      "source": [
        "from textblob import TextBlob as tb\n",
        "from googletrans import Translator\n",
        "\n",
        "#print(result.src)\n",
        "#print(result.dest)\n",
        "#print(result.origin)\n",
        "#print(result.text)\n",
        "#print(result.pronunciation)\n",
        "\n",
        "translator = Translator()\n",
        "\n",
        "result = translator.translate(\"O que é isso e quando vamos fazer isso\", src='pt', dest='en')\n",
        "print(result.text)\n"
      ],
      "execution_count": 2,
      "outputs": [
        {
          "output_type": "stream",
          "name": "stdout",
          "text": [
            "What is this and when we're going to do this\n"
          ]
        }
      ]
    },
    {
      "cell_type": "markdown",
      "metadata": {
        "id": "2GZPhLtXCYK5"
      },
      "source": [
        "### Sites to Scrap"
      ]
    },
    {
      "cell_type": "code",
      "metadata": {
        "id": "L5eVkWAdCNPC"
      },
      "source": [
        "import requests\n",
        "from bs4 import BeautifulSoup\n",
        "\n",
        "sites = [('Globo','https://g1.globo.com/'), ('Uol','https://noticias.uol.com.br/'), ('O Antagonista','https://www.oantagonista.com/')]\n",
        "\n",
        "soups = []\n",
        "\n",
        "for site in sites:\n",
        "  paginaHTML = requests.get(site[1])\n",
        "  soups.append(paginaHTML.text)\n",
        "  #soups.append(BeautifulSoup(paginaHTML.text, 'html.parser'))\n",
        "  #print(soup)"
      ],
      "execution_count": 3,
      "outputs": []
    },
    {
      "cell_type": "code",
      "metadata": {
        "id": "eQ_aCfSKRHtr"
      },
      "source": [
        "def get_materias(soup:str,beacon:str, stop_character:chr, init_character='', add_characters=0):\n",
        "  textinho = soup\n",
        "\n",
        "  materias = []\n",
        "\n",
        "  index_resposta = textinho.find(beacon)\n",
        "\n",
        "  while index_resposta != -1:\n",
        "    character_atual = index_resposta+len(beacon)+1\n",
        "    if(init_character != ''):\n",
        "      while textinho[character_atual] != init_character:\n",
        "        character_atual+=1\n",
        "      character_atual+=add_characters\n",
        "    \n",
        "    materia = \"\"\n",
        "    while textinho[character_atual] != stop_character:\n",
        "      materia += textinho[character_atual]\n",
        "      character_atual += 1\n",
        "\n",
        "    materias.append(materia)\n",
        "    index_resposta = textinho.find(beacon, index_resposta+1) \n",
        "  return materias\n"
      ],
      "execution_count": 4,
      "outputs": []
    },
    {
      "cell_type": "code",
      "metadata": {
        "id": "OJCiYjFZVL6-"
      },
      "source": [
        "def get_materias_oantagonista(soup):\n",
        "  beacon = '<div class=\"article_link\"><a href=\"https'\n",
        "  stop_character = '\"'\n",
        "  init_character = '\"'\n",
        "  add_characters = 9\n",
        "  return get_materias(soup,beacon,stop_character,init_character,add_characters)"
      ],
      "execution_count": 5,
      "outputs": []
    },
    {
      "cell_type": "code",
      "metadata": {
        "id": "zE1Qr6UuOXaK"
      },
      "source": [
        "def get_materias_uol(soup):\n",
        "  beacon = 'class=\"thumb-title title-xsmall title-lg-small\"'\n",
        "  character = '<'\n",
        "  return get_materias(soup,beacon,character)"
      ],
      "execution_count": 6,
      "outputs": []
    },
    {
      "cell_type": "code",
      "metadata": {
        "id": "xLIGFaQYURux"
      },
      "source": [
        "def get_materias_g1(soup):\n",
        "  beacon = '\"species\":\"Matéria\",\"title\":'\n",
        "  character = '\"'\n",
        "  return get_materias(soup,beacon,character)"
      ],
      "execution_count": 7,
      "outputs": []
    },
    {
      "cell_type": "code",
      "metadata": {
        "id": "tgoqQE3_HeW8"
      },
      "source": [
        "import spacy\n",
        "nlp = spacy.load(\"en_core_web_sm\")"
      ],
      "execution_count": 9,
      "outputs": []
    },
    {
      "cell_type": "code",
      "metadata": {
        "colab": {
          "base_uri": "https://localhost:8080/"
        },
        "id": "93zUUrOLK9e-",
        "outputId": "8172a0f7-499c-4caf-8e4c-5a8d3ced9092"
      },
      "source": [
        "doc = nlp(\"Hello guys, how are you all today?.\")\n",
        "sentence = list(doc.sents)[0]\n",
        "\n",
        "print('SENTS:\\n')\n",
        "for s in sentence:\n",
        "  print(s)\n",
        "  print(s.ent_type_)\n",
        "  print(s.pos_)\n",
        "  print('----------')\n",
        "\n",
        "print('\\nENTS:\\n')\n",
        "for d in doc.ents:\n",
        "  print(d.text, d.label_)\n",
        "\n",
        "print('\\nNOUN_CHUNKS:\\n')\n",
        "for n in doc.noun_chunks:\n",
        "  print(n.text)\n"
      ],
      "execution_count": 11,
      "outputs": [
        {
          "output_type": "stream",
          "name": "stdout",
          "text": [
            "SENTS:\n",
            "\n",
            "Hello\n",
            "\n",
            "INTJ\n",
            "----------\n",
            "guys\n",
            "\n",
            "NOUN\n",
            "----------\n",
            ",\n",
            "\n",
            "PUNCT\n",
            "----------\n",
            "how\n",
            "\n",
            "ADV\n",
            "----------\n",
            "are\n",
            "\n",
            "AUX\n",
            "----------\n",
            "you\n",
            "\n",
            "PRON\n",
            "----------\n",
            "all\n",
            "\n",
            "DET\n",
            "----------\n",
            "today\n",
            "DATE\n",
            "NOUN\n",
            "----------\n",
            "?\n",
            "\n",
            "PUNCT\n",
            "----------\n",
            ".\n",
            "\n",
            "PUNCT\n",
            "----------\n",
            "\n",
            "ENTS:\n",
            "\n",
            "today DATE\n",
            "\n",
            "NOUN_CHUNKS:\n",
            "\n",
            "you\n"
          ]
        }
      ]
    },
    {
      "cell_type": "markdown",
      "metadata": {
        "id": "f5DT3id_cuDi"
      },
      "source": [
        "### Show Latest News"
      ]
    },
    {
      "cell_type": "code",
      "metadata": {
        "colab": {
          "base_uri": "https://localhost:8080/"
        },
        "id": "J5cFRPhGXwg6",
        "outputId": "0a02a30a-ba5b-4916-bb66-0fac59656e8e"
      },
      "source": [
        "materias_g1 = get_materias_g1(soups[0])\n",
        "materias_uol = get_materias_uol(soups[1])\n",
        "materias_oantagonista = get_materias_oantagonista(soups[2])\n",
        "\n",
        "for materia in materias_g1:\n",
        "  result = translator.translate(materia, src='pt')\n",
        "  print(result.text)\n",
        "\n"
      ],
      "execution_count": 12,
      "outputs": [
        {
          "output_type": "stream",
          "name": "stdout",
          "text": [
            "Ex-Charlie Brown Jr. Calls the son of Chorão de 'Arrogant'\n",
            "'There are days that I only cry', says Mouth Rosa about entrepreneurship\n",
            "'Superbebê' is born with 7 kg and does not fit in the incubator\n",
            "Brazil's taller man will have to amputate leg\n",
            "Anvisa approves HIV treatment of only one tablet\n",
            "We test smartphones that cost up to R $ 2,000\n",
            "Airfryer: how to choose your 'fryer' without oil\n",
            "Lamp, lock, porter: The basic kit of the smart house\n",
            "Headphones to work and play: See options for R $ 250 to R $ 2,000\n",
            "Meet products that transform your TV into Smart\n",
            "Skate: Learn how to choose the ideal model\n",
            "Pix serve and PIX Change start valer;Understand the rules\n",
            "OMICRON: What is known about the new coronavirus variant\n",
            "Who is entitled to unemployment insurance?How do you ask?\n",
            "Vale-gas: Understand the program and who will\n",
            "Learn if you can have discount on the light account\n",
            "Mobile average deaths is in 227;Total passes from 614 thousand\n",
            "More than 133 million are complete vaccination, 62.44% of the population\n",
            "Omichron: Why the world is afraid\n",
            "How to organize your company's finances in 2022\n",
            "It is #Fake audio that speaks in Tijuca deaths by new variant\n",
            "It is #Fake that registration of aid Brazil can be done on whatsapp\n",
            "It's #Fake that video shows plastic in vaccinated blood against covid\n",
            "See how to make the aid registration\n",
            "When will the value reach R $ 400?Ask questions\n",
            "I received the emergency assistance, how do I get now?\n",
            "Who needs a chuca?'Hygienic shower' before anal sex requires care\n",
            "'Honeymoon cystitis': what is the inflammation that Anitta revealed to have\n",
            "Sexual Fantasies: What are and what are the most common\n",
            "Vaginismo and vulvodinea: Why do sex pain?\n",
            "Guide explains how the female vibrators work\n",
            "Murders fall 8% in the first half in Brazil\n"
          ]
        }
      ]
    },
    {
      "cell_type": "code",
      "metadata": {
        "colab": {
          "base_uri": "https://localhost:8080/"
        },
        "id": "T699DoJ5HH0z",
        "outputId": "d3b87582-e94f-4bbe-bde7-07895e584a4a"
      },
      "source": [
        "def show_sentiment(materias):\n",
        "  for materia in materias:\n",
        "    result = translator.translate(materia, src='pt')\n",
        "    titulo = tb(result.text)\n",
        "    if(titulo.polarity != 0 or titulo.subjectivity != 0):\n",
        "      print(f'Titulo: {materia} \\nSentimento: {titulo.sentiment}\\n')\n",
        "\n",
        "show_sentiment(materias_oantagonista)\n",
        "print(len(materias_oantagonista))"
      ],
      "execution_count": 13,
      "outputs": [
        {
          "output_type": "stream",
          "name": "stdout",
          "text": [
            "Titulo: Moro fala \n",
            "Sentimento: Sentiment(polarity=0.13636363636363635, subjectivity=0.5)\n",
            "\n",
            "Titulo: Orçamento secreto continua secreto \n",
            "Sentimento: Sentiment(polarity=-0.4, subjectivity=0.7)\n",
            "\n",
            "Titulo: Um limite para o orçamento secreto \n",
            "Sentimento: Sentiment(polarity=-0.4, subjectivity=0.7)\n",
            "\n",
            "Titulo: Moro dispara na terceira via \n",
            "Sentimento: Sentiment(polarity=0.06818181818181818, subjectivity=0.25)\n",
            "\n",
            "Titulo: Ciro Gomes e o efeito Moro \n",
            "Sentimento: Sentiment(polarity=0.13636363636363635, subjectivity=0.5)\n",
            "\n",
            "Titulo: Moro e a política econômica de Jair Bolsonaro \n",
            "Sentimento: Sentiment(polarity=0.16818181818181818, subjectivity=0.35)\n",
            "\n",
            "Titulo: Lula diz que vai interferir na Petrobras e culpa Lava Jato por alta nos preços \n",
            "Sentimento: Sentiment(polarity=0.16, subjectivity=0.5399999999999999)\n",
            "\n",
            "Titulo: Lula e Alckmin desmarcam reunião prevista para amanhã \n",
            "Sentimento: Sentiment(polarity=0.10000000000000002, subjectivity=0.3833333333333333)\n",
            "\n",
            "Titulo: Saiba como cada parlamentar votou no 'golpe do orçamento secreto' \n",
            "Sentimento: Sentiment(polarity=-0.4, subjectivity=0.7)\n",
            "\n",
            "Titulo: Moro diz que Bolsonaro comemorou o fim da prisão em segunda instância \n",
            "Sentimento: Sentiment(polarity=0.175, subjectivity=0.375)\n",
            "\n",
            "Titulo: Moro estraga a festa de Bolsonaro \n",
            "Sentimento: Sentiment(polarity=0.13636363636363635, subjectivity=0.5)\n",
            "\n",
            "Titulo: Gleisi diz que voto de petista a favor do orçamento secreto é muito grave \n",
            "Sentimento: Sentiment(polarity=-0.4166666666666667, subjectivity=0.7833333333333333)\n",
            "\n",
            "Titulo: Vamos vencer juntos o vírus, qualquer traidor e qualquer ladrão de nove dedos \n",
            "Sentimento: Sentiment(polarity=0.8, subjectivity=0.4)\n",
            "\n",
            "Titulo: Noivinha do Aristides é assunto mais comentado do Twitter \n",
            "Sentimento: Sentiment(polarity=0.16666666666666669, subjectivity=0.41666666666666663)\n",
            "\n",
            "Titulo: Moro diz que Bolsonaro comemorou o fim da prisão em segunda instância \n",
            "Sentimento: Sentiment(polarity=0.175, subjectivity=0.375)\n",
            "\n",
            "Titulo: Moro estraga a festa de Bolsonaro \n",
            "Sentimento: Sentiment(polarity=0.13636363636363635, subjectivity=0.5)\n",
            "\n",
            "Titulo: O PL das Fake News pode prejudicar o jornalismo \n",
            "Sentimento: Sentiment(polarity=-0.5, subjectivity=1.0)\n",
            "\n",
            "Titulo: Juiz determina prisão de Henrique Alves \n",
            "Sentimento: Sentiment(polarity=-0.05, subjectivity=0.0)\n",
            "\n",
            "Titulo: OMS: variante Ômicron representa risco muito elevado para o mundo \n",
            "Sentimento: Sentiment(polarity=0.20800000000000002, subjectivity=0.702)\n",
            "\n",
            "Titulo: Podemos tem mais a perder com Janot \n",
            "Sentimento: Sentiment(polarity=0.5, subjectivity=0.5)\n",
            "\n",
            "Titulo: A noivinha ficou brava \n",
            "Sentimento: Sentiment(polarity=-0.5, subjectivity=1.0)\n",
            "\n",
            "Titulo: Saiba tudo o que disse o diretor da Precisa à CPI da Covid \n",
            "Sentimento: Sentiment(polarity=0.4000000000000001, subjectivity=0.6333333333333334)\n",
            "\n",
            "74\n"
          ]
        }
      ]
    },
    {
      "cell_type": "code",
      "metadata": {
        "id": "6_raKB3cWA4a"
      },
      "source": [
        "help(tb)"
      ],
      "execution_count": null,
      "outputs": []
    },
    {
      "cell_type": "code",
      "metadata": {
        "colab": {
          "base_uri": "https://localhost:8080/"
        },
        "id": "bIbGSos1L5MO",
        "outputId": "5c99a8b3-a4b8-42e9-d1d7-46eeda60bc64"
      },
      "source": [
        "phrase = tb(\"The sun is yellow and I am quite mellow\")\n",
        "print(type(phrase))"
      ],
      "execution_count": 28,
      "outputs": [
        {
          "output_type": "stream",
          "name": "stdout",
          "text": [
            "<class 'textblob.blob.TextBlob'>\n"
          ]
        }
      ]
    },
    {
      "cell_type": "code",
      "metadata": {
        "colab": {
          "base_uri": "https://localhost:8080/"
        },
        "id": "WgSJitjmH-i0",
        "outputId": "c1b8bd55-7454-439b-c6cc-a962fe908d15"
      },
      "source": [
        "sub = tb(\"Earth is my planet\")\n",
        "print(f'Subjectivity: {sub.subjectivity}')\n",
        "print(f'Polarity: {sub.polarity}')"
      ],
      "execution_count": 27,
      "outputs": [
        {
          "output_type": "stream",
          "name": "stdout",
          "text": [
            "Subjectivity: 0.0\n",
            "Polarity: 0.0\n"
          ]
        }
      ]
    }
  ]
}